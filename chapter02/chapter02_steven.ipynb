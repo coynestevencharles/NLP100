{
 "cells": [
  {
   "cell_type": "markdown",
   "metadata": {},
   "source": [
    "## Chapter 2: UNIX Commands\n",
    "\n",
    "NLP 100  \n",
    "\n",
    "Steven Coyne\n",
    "  \n",
    "The file popular-names.txt stores names of babies born in US with their genders, numbers of births, and years of births in tab-separated format. Create a program with the specifications below. Run the program with popular-names.txt as an input. Furthermore, confirm that the same (similar) result can be obtained by running a UNIX command."
   ]
  },
  {
   "cell_type": "markdown",
   "metadata": {},
   "source": [
    "### 10. Line count\n",
    "\n",
    "Count the number of lines of the file. Confirm the result by using wc command."
   ]
  },
  {
   "cell_type": "code",
   "execution_count": 6,
   "metadata": {},
   "outputs": [
    {
     "name": "stdout",
     "output_type": "stream",
     "text": [
      "    2780 data/popular-names.txt\n"
     ]
    }
   ],
   "source": [
    "#there should be 2780\n",
    "!wc -l data/popular-names.txt"
   ]
  },
  {
   "cell_type": "markdown",
   "metadata": {},
   "source": [
    "### 11. Replace tabs into spaces\n",
    "\n",
    "Replace every occurrence of a tab character into a space. Confirm the result by using sed, tr, or expand command."
   ]
  },
  {
   "cell_type": "code",
   "execution_count": 18,
   "metadata": {},
   "outputs": [
    {
     "name": "stdout",
     "output_type": "stream",
     "text": [
      "Mary F 7065 1880\n",
      "Anna F 2604 1880\n",
      "Emma F 2003 1880\n",
      "Elizabeth F 1939 1880\n",
      "Minnie F 1746 1880\n",
      "sed: stdout: Broken pipe\n"
     ]
    }
   ],
   "source": [
    "!sed 's/\\t/ /g' data/popular-names.txt | head -n5"
   ]
  },
  {
   "cell_type": "markdown",
   "metadata": {},
   "source": [
    "### 12. col1.txt from the first column, col2.txt from the second column\n",
    "\n",
    "Extract the value of the first column of each line, and store the output into col1.txt. Extract the value of the second column of each line, and store the output into col2.txt. Confirm the result by using cut command."
   ]
  },
  {
   "cell_type": "code",
   "execution_count": 8,
   "metadata": {},
   "outputs": [],
   "source": [
    "!cut -f 1 data/popular-names.txt > work/col1.txt\n",
    "!cut -f 2 data/popular-names.txt > work/col2.txt"
   ]
  },
  {
   "cell_type": "markdown",
   "metadata": {},
   "source": [
    "### 13. Merging col1.txt and col2.txt\n",
    "\n",
    "Join the contents of col1.txt and col2.txt, and create a text file whose each line contains the values of the first and second columns (separated by tab character) of the original file. Confirm the result by using paste command."
   ]
  },
  {
   "cell_type": "code",
   "execution_count": 9,
   "metadata": {},
   "outputs": [],
   "source": [
    "!paste work/col1.txt work/col2.txt > work/name-and-gender.txt"
   ]
  },
  {
   "cell_type": "markdown",
   "metadata": {},
   "source": [
    "### 14. First N lines\n",
    "\n",
    "Receive a natural number $N$ from a command-line argument, and output the first $N$ lines of the file. Confirm the result by using head command."
   ]
  },
  {
   "cell_type": "code",
   "execution_count": 10,
   "metadata": {},
   "outputs": [
    {
     "name": "stdout",
     "output_type": "stream",
     "text": [
      "head: illegal line count -- work/name-and-gender.txt\n"
     ]
    }
   ],
   "source": [
    "#This works in the actual terminal but not in the notebook\n",
    "!N=3\n",
    "!head -n $N work/name-and-gender.txt"
   ]
  },
  {
   "attachments": {},
   "cell_type": "markdown",
   "metadata": {},
   "source": [
    "Output:\n",
    "\n",
    "Mary    F  \n",
    "Anna    F  \n",
    "Emma    F"
   ]
  },
  {
   "cell_type": "markdown",
   "metadata": {},
   "source": [
    "### 15. Last N lines\n",
    "\n",
    "Receive a natural number $N$ from a command-line argument, and output the last $N$ lines of the file. Confirm the result by using tail command."
   ]
  },
  {
   "cell_type": "code",
   "execution_count": 51,
   "metadata": {},
   "outputs": [
    {
     "name": "stdout",
     "output_type": "stream",
     "text": [
      "tail: illegal offset -- name-and-gender.txt\n"
     ]
    }
   ],
   "source": [
    "#This works in the actual terminal but not in the notebook\n",
    "!N=8\n",
    "!tail -n $N work/name-and-gender.txt"
   ]
  },
  {
   "attachments": {},
   "cell_type": "markdown",
   "metadata": {},
   "source": [
    "Output:\n",
    "\n",
    "William M  \n",
    "James   M  \n",
    "Oliver  M  \n",
    "Benjamin        M  \n",
    "Elijah  M  \n",
    "Lucas   M  \n",
    "Mason   M  \n",
    "Logan   M"
   ]
  },
  {
   "cell_type": "markdown",
   "metadata": {},
   "source": [
    "### 16. Split a file into N pieces\n",
    "\n",
    "Receive a natural number $N$ from a command-line argument, and split the input file into $N$ pieces at line boundaries. Confirm the result by using split command."
   ]
  },
  {
   "cell_type": "code",
   "execution_count": 13,
   "metadata": {},
   "outputs": [
    {
     "name": "stdout",
     "output_type": "stream",
     "text": [
      "split: work/name-and-gender.txt: illegal number of chunks\n"
     ]
    }
   ],
   "source": [
    "#works in terminal\n",
    "!N=6\n",
    "#makes names_aa, names_ab, etc\n",
    "!split -n $N work/name-and-gender.txt work/names_ "
   ]
  },
  {
   "cell_type": "markdown",
   "metadata": {},
   "source": [
    "### 17. Distinct strings in the first column\n",
    "\n",
    "Find distinct strings (a set of strings) of the first column of the file. Confirm the result by using cut, sort, and uniq commands."
   ]
  },
  {
   "cell_type": "code",
   "execution_count": 14,
   "metadata": {},
   "outputs": [],
   "source": [
    "!cut -f 1 data/popular-names.txt | sort | uniq > work/unique_names.txt"
   ]
  },
  {
   "cell_type": "markdown",
   "metadata": {},
   "source": [
    "### 18. Sort lines in descending order of the third column\n",
    "\n",
    "Sort the lines in descending numeric order of the third column (sort lines without changing the content of each line). Confirm the result by using sort command."
   ]
  },
  {
   "cell_type": "code",
   "execution_count": 17,
   "metadata": {},
   "outputs": [
    {
     "name": "stdout",
     "output_type": "stream",
     "text": [
      "Linda\tF\t99689\t1947\n",
      "Linda\tF\t96211\t1948\n",
      "James\tM\t94757\t1947\n",
      "Michael\tM\t92704\t1957\n",
      "Robert\tM\t91640\t1947\n",
      "sort: Broken pipe\n"
     ]
    }
   ],
   "source": [
    "!sort -rnk3 data/popular-names.txt | head -n5"
   ]
  },
  {
   "cell_type": "markdown",
   "metadata": {},
   "source": [
    "### 19. Frequency of a string in the first column in descending order\n",
    "\n",
    "Find the frequency of a string in the first column, and sort the strings by descending order of their frequencies. Confirm the result by using cut, uniq, and sort commands."
   ]
  },
  {
   "cell_type": "code",
   "execution_count": 15,
   "metadata": {},
   "outputs": [],
   "source": [
    "!cut -f 1 data/popular-names.txt | sort | uniq -c | sort -r > work/unique_counts.txt"
   ]
  }
 ],
 "metadata": {
  "kernelspec": {
   "display_name": "Python 3.8.8 64-bit ('base')",
   "language": "python",
   "name": "python3"
  },
  "language_info": {
   "codemirror_mode": {
    "name": "ipython",
    "version": 3
   },
   "file_extension": ".py",
   "mimetype": "text/x-python",
   "name": "python",
   "nbconvert_exporter": "python",
   "pygments_lexer": "ipython3",
   "version": "3.8.13"
  },
  "orig_nbformat": 4,
  "vscode": {
   "interpreter": {
    "hash": "61a24e73496aeaa73309e785a2ff9024473e686d2c49c6d28da8f697a6e5d1bc"
   }
  }
 },
 "nbformat": 4,
 "nbformat_minor": 2
}
