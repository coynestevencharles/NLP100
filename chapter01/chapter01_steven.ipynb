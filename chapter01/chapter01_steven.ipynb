{
 "cells": [
  {
   "attachments": {},
   "cell_type": "markdown",
   "metadata": {},
   "source": [
    "## Chapter 1: Warm-up\n",
    "\n",
    "NLP 100  \n",
    "\n",
    "Steven Coyne"
   ]
  },
  {
   "attachments": {},
   "cell_type": "markdown",
   "metadata": {},
   "source": [
    "### 00. Reversed string\n",
    "\n",
    "Obtain the string that arranges letters of the string “stressed” in reverse order (tail to head)."
   ]
  },
  {
   "cell_type": "code",
   "execution_count": 2,
   "metadata": {},
   "outputs": [
    {
     "name": "stdout",
     "output_type": "stream",
     "text": [
      "desserts\n"
     ]
    }
   ],
   "source": [
    "original_string = 'stressed'\n",
    "reversed = ''\n",
    "#for ch in original_string:\n",
    "#    reversed = ch + reversed\n",
    "\n",
    "reversed = original_string[::-1]\n",
    "\n",
    "print(reversed)"
   ]
  },
  {
   "attachments": {},
   "cell_type": "markdown",
   "metadata": {},
   "source": [
    "### 01. “schooled”\n",
    "\n",
    "Obtain the string that concatenates the 1st, 3rd, 5th, and 7th letters in the string “schooled”."
   ]
  },
  {
   "cell_type": "code",
   "execution_count": 4,
   "metadata": {},
   "outputs": [
    {
     "name": "stdout",
     "output_type": "stream",
     "text": [
      "shoe\n"
     ]
    }
   ],
   "source": [
    "sch = \"schooled\"\n",
    "#letters = sch[0] + sch[2] + sch[4] + sch[6]\n",
    "letters = sch[::2]\n",
    "\n",
    "print(letters)"
   ]
  },
  {
   "attachments": {},
   "cell_type": "markdown",
   "metadata": {},
   "source": [
    "### 02. “shoe” + “cold” = “schooled”\n",
    "\n",
    "Obtain the string “schooled” by concatenating the letters in “shoe” and “cold” one after the other from head to tail."
   ]
  },
  {
   "cell_type": "code",
   "execution_count": 3,
   "metadata": {},
   "outputs": [
    {
     "name": "stdout",
     "output_type": "stream",
     "text": [
      "schooled\n"
     ]
    }
   ],
   "source": [
    "shoe = \"shoe\"\n",
    "cold = \"cold\"\n",
    "output02 = \"\"\n",
    "\n",
    "for i in range(0, 4):\n",
    "    output02 = output02 + shoe[i] + cold[i]\n",
    "\n",
    "print(output02)"
   ]
  },
  {
   "attachments": {},
   "cell_type": "markdown",
   "metadata": {},
   "source": [
    "### 03. Pi\n",
    "\n",
    "Split the sentence “Now I need a drink, alcoholic of course, after the heavy lectures involving quantum mechanics”. into words, and create a list whose element presents the number of alphabetical letters in the corresponding word."
   ]
  },
  {
   "cell_type": "code",
   "execution_count": 5,
   "metadata": {},
   "outputs": [
    {
     "name": "stdout",
     "output_type": "stream",
     "text": [
      "[3, 1, 4, 1, 5, 9, 2, 6, 5, 3, 5, 8, 9, 7, 9]\n"
     ]
    }
   ],
   "source": [
    "lect = \"Now I need a drink, alcoholic of course, after the heavy lectures involving quantum mechanics\"\n",
    "new_lect = \"\"\n",
    "for ch in lect:\n",
    "    if ch != \",\":\n",
    "        new_lect = new_lect + ch\n",
    "#or replace() with blank string\n",
    "\n",
    "lect_list = new_lect.split(\" \")\n",
    "out03 = [len(word) for word in lect_list]\n",
    "\n",
    "print(out03)"
   ]
  },
  {
   "attachments": {},
   "cell_type": "markdown",
   "metadata": {},
   "source": [
    "### 04. Atomic symbols\n",
    "\n",
    "Split the sentence “Hi He Lied Because Boron Could Not Oxidize Fluorine. New Nations Might Also Sign Peace Security Clause. Arthur King Can”. into words, and extract the first letter from the 1st, 5th, 6th, 7th, 8th, 9th, 15th, 16th, 19th words and the first two letters from the other words. Create an associative array (dictionary object or mapping object) that maps from the extracted string to the position (offset in the sentence) of the corresponding word."
   ]
  },
  {
   "cell_type": "code",
   "execution_count": 6,
   "metadata": {},
   "outputs": [
    {
     "name": "stdout",
     "output_type": "stream",
     "text": [
      "{'H': 1, 'He': 2, 'Li': 3, 'Be': 4, 'Bo': 5, 'Co': 6, 'N': 11, 'O': 8, 'F': 9, 'Mi': 12, 'Al': 13, 'Si': 14, 'Pe': 15, 'Se': 16, 'C': 17, 'A': 18, 'Ki': 19, 'Ca': 20}\n"
     ]
    }
   ],
   "source": [
    "atomic = \"Hi He Lied Because Boron Could Not Oxidize Fluorine. New Nations Might Also Sign Peace Security Clause. Arthur King Can\"\n",
    "new_atomic = \"\"\n",
    "for ch in atomic:\n",
    "    if ch != \".\":\n",
    "        new_atomic = new_atomic + ch\n",
    "#or replace() with blank string\n",
    "atomic_list = new_atomic.split(\" \")\n",
    "FIRST_EXTRACT = (0, 6, 7, 8, 9, 10, 16, 17, 20)\n",
    "atomic_dict = {}\n",
    "\n",
    "for word in atomic_list:\n",
    "    if atomic_list.index(word) in FIRST_EXTRACT:\n",
    "        atomic_dict.update({word[0]:(atomic_list.index(word)+1)})\n",
    "    else:\n",
    "        atomic_dict.update({word[0:2]:(atomic_list.index(word)+1)})\n",
    "\n",
    "print(atomic_dict)"
   ]
  },
  {
   "attachments": {},
   "cell_type": "markdown",
   "metadata": {},
   "source": [
    "### 05. n-gram\n",
    "\n",
    "Implement a function that obtains n-grams from a given sequence object (e.g., string and list). Use this function to obtain word bi-grams and letter bi-grams from the sentence “I am an NLPer”"
   ]
  },
  {
   "cell_type": "code",
   "execution_count": 8,
   "metadata": {},
   "outputs": [
    {
     "name": "stdout",
     "output_type": "stream",
     "text": [
      "Character Bigrams:\n",
      "['I ', ' a', 'am', 'm ', ' a', 'an', 'n ', ' N', 'NL', 'LP', 'Pe', 'er']\n",
      "\n",
      "Word Bigrams:\n",
      "[['I', 'am'], ['am', 'an'], ['an', 'NLPer']]\n"
     ]
    }
   ],
   "source": [
    "nlper = \"I am an NLPer\"\n",
    "nlper_words = nlper.split()\n",
    "\n",
    "'''def get_ngrams(text, n):\n",
    "    ngrams = [text[i:i+n] for i in range(len(text)-n+1)]\n",
    "    return ngrams'''\n",
    "\n",
    "#with signature information\n",
    "def get_ngrams(text: object, n: int) -> list:\n",
    "    return [text[i:i+n] for i in range(len(text)-n+1)]\n",
    "\n",
    "char_ngrams = get_ngrams(nlper, 2)\n",
    "word_ngrams = get_ngrams(nlper_words, 2)\n",
    "\n",
    "print('Character Bigrams:')\n",
    "print(char_ngrams)\n",
    "print('\\nWord Bigrams:')\n",
    "print(word_ngrams)"
   ]
  },
  {
   "attachments": {},
   "cell_type": "markdown",
   "metadata": {},
   "source": [
    "### 06. Set\n",
    "\n",
    "Let the sets of letter bi-grams from the words “paraparaparadise” and “paragraph” $X$ and $Y$, respectively. Obtain the union, intersection, difference of the two sets. In addition, check whether the bigram “se” is included in the sets $X$ and $Y$"
   ]
  },
  {
   "cell_type": "code",
   "execution_count": 7,
   "metadata": {},
   "outputs": [
    {
     "name": "stdout",
     "output_type": "stream",
     "text": [
      "Union:\n",
      "{'gr', 'ar', 'ag', 'ra', 'pa', 'is', 'se', 'ad', 'ph', 'ap', 'di'}\n",
      "Intersection:\n",
      "{'ap', 'ar', 'ra', 'pa'}\n",
      "Difference:\n",
      "{'ad', 'di', 'is', 'se'}\n",
      "\n",
      "Does \"paraparaparadise\" include \"se\"?\n",
      "True\n",
      "\n",
      "Does \"paragraph\" include \"se\"?\n",
      "False\n"
     ]
    }
   ],
   "source": [
    "bigrams_X = set(get_ngrams(\"paraparaparadise\", 2))\n",
    "bigrams_Y = set(get_ngrams(\"paragraph\", 2))\n",
    "\n",
    "bigram_union = bigrams_X.union(bigrams_Y)\n",
    "bigram_intersection = bigrams_X.intersection(bigrams_Y)\n",
    "bigram_difference = bigrams_X.difference(bigrams_Y)\n",
    "\n",
    "print(\"Union:\")\n",
    "print(bigram_union)\n",
    "print(\"Intersection:\")\n",
    "print(bigram_intersection)\n",
    "print(\"Difference:\")\n",
    "print(bigram_difference)\n",
    "print(\"\")\n",
    "print(\"Does \\\"paraparaparadise\\\" include \\\"se\\\"?\")\n",
    "print((\"se\" in bigrams_X))\n",
    "print(\"\")\n",
    "print(\"Does \\\"paragraph\\\" include \\\"se\\\"?\")\n",
    "print((\"se\" in bigrams_Y))"
   ]
  },
  {
   "attachments": {},
   "cell_type": "markdown",
   "metadata": {},
   "source": [
    "### 07. Template-based sentence generation\n",
    "\n",
    "Implement a function that receives arguments, x, y, and z and returns a string “{y} is {z} at {x}”, where “{x}”, “{y}”, and “{z}” denote the values of x, y, and z, respectively. In addition, confirm the return string by giving the arguments x=12, y=\"temperature\", and z=22.4."
   ]
  },
  {
   "cell_type": "code",
   "execution_count": 9,
   "metadata": {},
   "outputs": [
    {
     "name": "stdout",
     "output_type": "stream",
     "text": [
      "temperature is 22.4 at 12\n"
     ]
    }
   ],
   "source": [
    "def template_sentence(x, y, z):\n",
    "    return f'{y} is {z} at {x}'\n",
    "\n",
    "print(template_sentence(12, 'temperature', 22.4))"
   ]
  },
  {
   "attachments": {},
   "cell_type": "markdown",
   "metadata": {},
   "source": [
    "### 08. cipher text\n",
    "\n",
    "Implement a function cipher that converts a given string with the specification:\n",
    "\n",
    "Every alphabetical lowercase letter c is converted to a letter whose ASCII code is (219 - [the ASCII code of c])\n",
    "Keep other letters unchanged  \n",
    "Use this function to cipher and decipher an English message."
   ]
  },
  {
   "cell_type": "code",
   "execution_count": 13,
   "metadata": {},
   "outputs": [
    {
     "name": "stdout",
     "output_type": "stream",
     "text": [
      "Original message: Ciphers are such fun to create!\n",
      "Coded message: Crksvih ziv hfxs ufm gl xivzgv!\n",
      "Decoded message: Ciphers are such fun to create!\n"
     ]
    }
   ],
   "source": [
    "def cipher(input_str):\n",
    "    output_str = ''\n",
    "    for c in input_str:\n",
    "        #if c.isalpha() and c.islower(): #isaplha is unnecessary\n",
    "        if c.islower():\n",
    "            c = chr(219 - ord(c))\n",
    "        output_str += c\n",
    "    return output_str\n",
    "    \n",
    "message = 'Ciphers are such fun to create!'\n",
    "coded = cipher(message)\n",
    "decoded = cipher(coded)\n",
    "print(\"Original message: \" + message)\n",
    "print(\"Coded message: \" + coded)\n",
    "print(\"Decoded message: \" + decoded)"
   ]
  },
  {
   "attachments": {},
   "cell_type": "markdown",
   "metadata": {},
   "source": [
    "### 09. Typoglycemia\n",
    "\n",
    "Write a program with the specification:\n",
    "\n",
    "Receive a word sequence separated by space  \n",
    "For each word in the sequence:  \n",
    "If the word is no longer than four letters, keep the word unchanged  \n",
    "Otherwise,  \n",
    "Keep the first and last letters unchanged  \n",
    "Shuffle other letters in other positions (in the middle of the word)  \n",
    "Observe the result by giving a sentence, e.g., “I couldn’t believe that I could actually understand what I was reading : the phenomenal power of the human mind.\""
   ]
  },
  {
   "cell_type": "code",
   "execution_count": 10,
   "metadata": {},
   "outputs": [
    {
     "name": "stdout",
     "output_type": "stream",
     "text": [
      "Original sequence: I couldn’t believe that I could actually understand what I was reading : the phenomenal power of the human mind\n",
      "\n",
      "Partially scrambled version: I cn’ldout bilveee that I could alltuacy uatdesnrnd what I was reiadng : the peenmhonal peowr of the hmaun mind\n"
     ]
    }
   ],
   "source": [
    "import random\n",
    "\n",
    "sequence = \"I couldn’t believe that I could actually understand what I was reading : the phenomenal power of the human mind\"\n",
    "\n",
    "def typoglycemia(input_str):\n",
    "    word_sequence = input_str.split()\n",
    "    new_sequence = []\n",
    "    for word in word_sequence:\n",
    "        if len(word) > 4:\n",
    "            scramble = list(word[1:-1])\n",
    "            random.shuffle(scramble)\n",
    "            scramble = \"\".join(scramble)\n",
    "            word = str(word[0] + scramble + word[-1])\n",
    "        new_sequence.append(word)\n",
    "    new_sequence = \" \".join(word for word in new_sequence)\n",
    "    return new_sequence\n",
    "\n",
    "print(\"Original sequence: \" + sequence)\n",
    "print(\"\")\n",
    "print(\"Partially scrambled version: \"+ typoglycemia(sequence))\n",
    "\n",
    "#can also use String.translate() and maketrans() and string.punctuation to exclude some characters\n",
    "#the former two create a mapping table"
   ]
  }
 ],
 "metadata": {
  "kernelspec": {
   "display_name": "Python 3.8.8 64-bit ('base')",
   "language": "python",
   "name": "python3"
  },
  "language_info": {
   "codemirror_mode": {
    "name": "ipython",
    "version": 3
   },
   "file_extension": ".py",
   "mimetype": "text/x-python",
   "name": "python",
   "nbconvert_exporter": "python",
   "pygments_lexer": "ipython3",
   "version": "3.8.13 (default, Mar 28 2022, 06:16:26) \n[Clang 12.0.0 ]"
  },
  "orig_nbformat": 4,
  "vscode": {
   "interpreter": {
    "hash": "61a24e73496aeaa73309e785a2ff9024473e686d2c49c6d28da8f697a6e5d1bc"
   }
  }
 },
 "nbformat": 4,
 "nbformat_minor": 2
}
